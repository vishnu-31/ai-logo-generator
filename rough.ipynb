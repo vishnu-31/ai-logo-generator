{
 "cells": [
  {
   "cell_type": "code",
   "execution_count": null,
   "metadata": {},
   "outputs": [
    {
     "data": {
      "text/plain": [
       "True"
      ]
     },
     "execution_count": 2,
     "metadata": {},
     "output_type": "execute_result"
    }
   ],
   "source": [
    "import fal_client\n",
    "from dotenv import load_dotenv\n",
    "\n",
    "load_dotenv()"
   ]
  },
  {
   "cell_type": "code",
   "execution_count": 3,
   "metadata": {},
   "outputs": [],
   "source": [
    "business_desc = input(\"enter  description of your business\")\n",
    "\"A Marketing agency focussing on social media marketing\",\n",
    "\n",
    "\n",
    "style_of_logo = input(\"Select the style of logo you want\")\n",
    "    # [\"Vibrant, Creative\", \"Minimalistic, Professional\", \"Elegant, Sophisticated\"],\n",
    "    # index=0,\n",
    "# )\n"
   ]
  },
  {
   "cell_type": "code",
   "execution_count": 4,
   "metadata": {},
   "outputs": [],
   "source": [
    "def on_queue_update(update):\n",
    "    if isinstance(update, fal_client.InProgress):\n",
    "        for log in update.logs:\n",
    "            print(log[\"message\"])\n",
    "\n",
    "\n",
    "result = None\n",
    "\n",
    "\n",
    "result = fal_client.subscribe(\n",
    "    \"fal-ai/ideogram/v2\",\n",
    "    arguments={\n",
    "        \"prompt\": f\"A Logo for a business that can be described as {business_desc} with a style of {style_of_logo}, the logo should not contain any text,t it can have symbols\",\n",
    "        \"aspect_ratio\": \"1:1\",\n",
    "        \"style\": \"design\",\n",
    "        \"seed\": 42,\n",
    "    },\n",
    "    with_logs=True,\n",
    "    on_queue_update=on_queue_update,\n",
    ")\n",
    "\n"
   ]
  },
  {
   "cell_type": "code",
   "execution_count": 5,
   "metadata": {},
   "outputs": [
    {
     "name": "stdout",
     "output_type": "stream",
     "text": [
      "<class 'dict'> {'images': [{'url': 'https://fal.media/files/penguin/JVaAYqZjJ3kAVJzMdTDO7_image.png', 'content_type': 'image/png', 'file_name': 'image.png', 'file_size': 523371}], 'seed': 42}\n"
     ]
    }
   ],
   "source": [
    "print(type(result), result)\n"
   ]
  },
  {
   "cell_type": "code",
   "execution_count": 7,
   "metadata": {},
   "outputs": [
    {
     "data": {
      "text/plain": [
       "[{'url': 'https://fal.media/files/penguin/JVaAYqZjJ3kAVJzMdTDO7_image.png',\n",
       "  'content_type': 'image/png',\n",
       "  'file_name': 'image.png',\n",
       "  'file_size': 523371}]"
      ]
     },
     "execution_count": 7,
     "metadata": {},
     "output_type": "execute_result"
    }
   ],
   "source": [
    "result[\"images\"]"
   ]
  },
  {
   "cell_type": "code",
   "execution_count": null,
   "metadata": {},
   "outputs": [],
   "source": [
    "import random\n",
    "\n",
    "# Phrase categories extracted from your prompts\n",
    "styles = [\n",
    "    \"Minimalist\", \"Vintage\", \"Playful\", \"Elegant\", \"Bold and modern\", \"Rustic\",\n",
    "    \"Abstract\", \"Geometric\", \"Art Deco style\", \"Organic\"\n",
    "]\n",
    "# industries = [\n",
    "#     \"tech startup\", \"coffee shop\", \"children's bookstore\", \"luxury spa\", \"fitness app\",\n",
    "#     \"craft brewery\", \"financial consulting firm\", \"creative agency\", \"jazz club\",\n",
    "#     \"sustainable fashion brand\"\n",
    "# ]\n",
    "visual_elements = [\n",
    "    \"abstract geometric shape\", \"hand-drawn style coffee bean illustration\",\n",
    "    \"cartoon-style reading animal (e.g., fox or bear)\", \"abstract lotus flower symbol\",\n",
    "    \"stylized silhouette of a person running\", \"hop plant illustration\",\n",
    "    \"interconnected circles symbolizing network and growth\", \"overlapping triangles\",\n",
    "    \"stylized saxophone silhouette\", \"stylized leaf and water drop combination\"\n",
    "]\n",
    "colors = [\n",
    "    \"vibrant blue and white\", \"warm earth tones\", \"bright and cheerful colors\",\n",
    "    \"pastel colors (pale pink and gold)\", \"black and electric blue\", \"earthy brown and green tones\",\n",
    "    \"gradient color scheme (blue to green)\", \"vibrant and diverse color palette\",\n",
    "    \"gold and black\", \"muted natural colors (olive green and beige)\"\n",
    "]\n",
    "descriptors = [\n",
    "    \"clean lines, modern style\", \"script font, warm earth tones, slightly distressed texture\",\n",
    "    \"rounded shapes, friendly and approachable\", \"sophisticated and calming, flowing lines\",\n",
    "    \"dynamic lines suggesting motion, high contrast\", \"woodcut style, earthy brown and green tones, slightly rough edges, handmade feel\",\n",
    "    \"professional and trustworthy, clean and simple\", \"dynamic and innovative, sharp angles, modern and edgy\",\n",
    "    \"elegant typography, symmetrical design\", \"flowing lines, delicate and natural, organic and eco-friendly\" # slightly reordered for flow\n",
    "]\n",
    "\n",
    "def generate_logo_prompt():\n",
    "    \"\"\"Generates a unique logo prompt by mixing and matching phrases.\"\"\"\n",
    "\n",
    "    style = random.choice(styles)\n",
    "    industry = random.choice(industries)\n",
    "    element = random.choice(visual_elements)\n",
    "    color_palette = random.choice(colors)\n",
    "    descriptor = random.choice(descriptors)\n",
    "\n",
    "    prompt = f\"{style} logo for a {industry}, {element}, {color_palette}, {descriptor}.\"\n",
    "    return prompt\n",
    "\n",
    "# Example of generating and printing 5 unique prompts\n",
    "if __name__ == \"__main__\":\n",
    "    print(\"Here are 5 unique logo prompts:\")\n",
    "    for _ in range(5):\n",
    "        print(f\"- {generate_logo_prompt()}\")"
   ]
  }
 ],
 "metadata": {
  "kernelspec": {
   "display_name": ".venv",
   "language": "python",
   "name": "python3"
  },
  "language_info": {
   "codemirror_mode": {
    "name": "ipython",
    "version": 3
   },
   "file_extension": ".py",
   "mimetype": "text/x-python",
   "name": "python",
   "nbconvert_exporter": "python",
   "pygments_lexer": "ipython3",
   "version": "3.10.15"
  }
 },
 "nbformat": 4,
 "nbformat_minor": 2
}
